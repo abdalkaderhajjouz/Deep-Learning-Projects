{
 "cells": [
  {
   "cell_type": "markdown",
   "id": "561156dc",
   "metadata": {},
   "source": [
    "# Objective\n",
    "The objective is to detect the License plates of a Car using OpenCV and HaarCascade_russian_plate_number\n",
    "XML file"
   ]
  },
  {
   "cell_type": "code",
   "execution_count": 1,
   "id": "01a2e082",
   "metadata": {},
   "outputs": [
    {
     "name": "stdout",
     "output_type": "stream",
     "text": [
      "Press Enter Key to detect the License Plates\n",
      "Number of detected licence plates: 2\n"
     ]
    }
   ],
   "source": [
    "# Import Libraries\n",
    "import cv2\n",
    "import numpy as np\n",
    "\n",
    "print('Press Enter Key to detect the License Plates')\n",
    "\n",
    "# Load the image\n",
    "img = cv2.imread(\"cars.jpg\", 1)\n",
    "\n",
    "# Pre-process the Image\n",
    "gray = cv2.cvtColor(img, 0)\n",
    "\n",
    "# Display the Image\n",
    "cv2.imshow('img', gray)\n",
    "cv2.waitKey(0)\n",
    "\n",
    "# Create a function for a classifier using the HaarCascade_russian_plate_number.xml file\n",
    "plates_cascade_classifier = cv2.CascadeClassifier('haarcascade_russian_plate_number.xml') #does not give me error, but result is not correct\n",
    "\n",
    "# Detect the Car License Plates using the Classifier\n",
    "plates = plates_cascade_classifier.detectMultiScale(gray, 1.2, 4)\n",
    "\n",
    "# Display the Results\n",
    "print('Number of detected licence plates:', len(plates))\n",
    "\n",
    "for (x,y,w,h) in plates:\n",
    "\n",
    "    #detect plate with rectangle\n",
    "    #rec. start point (x,y), rec. end point (x+w, y+h), blue color(255,0,0), line width 1\n",
    "\n",
    "    plates_rec = cv2.rectangle(img, (x,y), (x+w, y+h), (0,255,0), 1)\n",
    "    \n",
    "    gray_plates = gray[y:y+h, x:x+w]\n",
    "    color_plates = img[y:y+h, x:x+w]\n",
    "\n",
    "    cv2.imshow('img', gray_plates)\n",
    "    cv2.waitKey(0)\n",
    "\n",
    "    height, width, chanel = gray_plates.shape\n",
    "    #print(height, width)\n",
    "    \n",
    "    \n",
    "    cv2.imshow('img', img)\n",
    "    if cv2.waitKey(1) == 13:                       #13 is the Enter key\n",
    "        break\n",
    "           \n",
    "    \n",
    "    if cv2.waitKey(0) & 0xFF == ord('q'):\n",
    "        break\n",
    "cv2.destroyAllWindows()\n",
    "    \n",
    "if cv2.waitKey(1) == 13:                       #13 is the Enter key\n",
    "    cv2.destroyAllWindows()"
   ]
  },
  {
   "cell_type": "code",
   "execution_count": null,
   "id": "60cb8998",
   "metadata": {},
   "outputs": [],
   "source": []
  }
 ],
 "metadata": {
  "kernelspec": {
   "display_name": "Python 3",
   "language": "python",
   "name": "python3"
  },
  "language_info": {
   "codemirror_mode": {
    "name": "ipython",
    "version": 3
   },
   "file_extension": ".py",
   "mimetype": "text/x-python",
   "name": "python",
   "nbconvert_exporter": "python",
   "pygments_lexer": "ipython3",
   "version": "3.8.8"
  }
 },
 "nbformat": 4,
 "nbformat_minor": 5
}

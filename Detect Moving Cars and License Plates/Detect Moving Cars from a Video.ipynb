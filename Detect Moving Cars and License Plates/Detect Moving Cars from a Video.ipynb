{
 "cells": [
  {
   "cell_type": "markdown",
   "id": "5fd16c86",
   "metadata": {},
   "source": [
    "# Objective\n",
    "The objective is to detect Moving Cars in a video file using OpenCV using the HaarCascade_car.xml file."
   ]
  },
  {
   "cell_type": "code",
   "execution_count": 1,
   "id": "a1beb464",
   "metadata": {},
   "outputs": [
    {
     "name": "stdout",
     "output_type": "stream",
     "text": [
      "Detecting Moving Cars from given video file.......\n"
     ]
    }
   ],
   "source": [
    "# Import Libraries\n",
    "import cv2\n",
    "import time\n",
    "import numpy as np\n",
    "\n",
    "print('Detecting Moving Cars from given video file.......')\n",
    "\n",
    "cascade_src = 'HaarCascade_cars.xml'\n",
    "\n",
    "video_src = 'dataset_video1.avi'\n",
    "#video_src = 'dataset_video2.avi'\n",
    "\n",
    "# Create car classifier\n",
    "car_classifier = cv2.CascadeClassifier(cascade_src)\n",
    "\n",
    "# Load the video\n",
    "cap = cv2.VideoCapture(video_src)\n",
    "\n",
    "\n",
    "while True:                                                            # Loop once video is successfully loaded(True)\n",
    "    ret, img = cap.read()                                              # Read first image frame\n",
    "   \n",
    "    if (type(img) == type(None)):\n",
    "        break\n",
    "        \n",
    "    gray = cv2.cvtColor(img, cv2.COLOR_BGR2GRAY)\n",
    "\n",
    "# Detect the moving cars using the Classifier\n",
    "                                                               \n",
    "    cars = car_classifier.detectMultiScale(gray, 1.1, 2)               # Pass frame to our car classifier\n",
    "\n",
    "    \n",
    "    for (x,y,w,h) in cars:                                             # Extract bounding boxes for any cars identified\n",
    "        cv2.rectangle(img,(x,y),(x+w,y+h),(0,255,255),2)\n",
    "        \n",
    "# Display the Results      \n",
    "\n",
    "    cv2.imshow('video', img)    \n",
    "   \n",
    "\n",
    "    if cv2.waitKey(1) == 13:   #13 is the Enter key\n",
    "        break\n",
    "\n",
    "cv2.destroyAllWindows()"
   ]
  },
  {
   "cell_type": "code",
   "execution_count": null,
   "id": "2573db83",
   "metadata": {},
   "outputs": [],
   "source": []
  },
  {
   "cell_type": "code",
   "execution_count": null,
   "id": "998af32a",
   "metadata": {},
   "outputs": [],
   "source": []
  }
 ],
 "metadata": {
  "kernelspec": {
   "display_name": "Python 3",
   "language": "python",
   "name": "python3"
  },
  "language_info": {
   "codemirror_mode": {
    "name": "ipython",
    "version": 3
   },
   "file_extension": ".py",
   "mimetype": "text/x-python",
   "name": "python",
   "nbconvert_exporter": "python",
   "pygments_lexer": "ipython3",
   "version": "3.8.8"
  }
 },
 "nbformat": 4,
 "nbformat_minor": 5
}
